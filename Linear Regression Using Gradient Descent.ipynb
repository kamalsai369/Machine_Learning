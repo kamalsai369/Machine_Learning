{
 "cells": [
  {
   "cell_type": "code",
   "execution_count": 1,
   "id": "e1549443-aded-49bf-a41e-87a85535ad77",
   "metadata": {},
   "outputs": [],
   "source": [
    "import pandas as pd\n",
    "import numpy as np"
   ]
  },
  {
   "cell_type": "code",
   "execution_count": 7,
   "id": "a37ab245-db6b-49ef-8e43-08803ede09bb",
   "metadata": {},
   "outputs": [
    {
     "data": {
      "text/html": [
       "<div>\n",
       "<style scoped>\n",
       "    .dataframe tbody tr th:only-of-type {\n",
       "        vertical-align: middle;\n",
       "    }\n",
       "\n",
       "    .dataframe tbody tr th {\n",
       "        vertical-align: top;\n",
       "    }\n",
       "\n",
       "    .dataframe thead th {\n",
       "        text-align: right;\n",
       "    }\n",
       "</style>\n",
       "<table border=\"1\" class=\"dataframe\">\n",
       "  <thead>\n",
       "    <tr style=\"text-align: right;\">\n",
       "      <th></th>\n",
       "      <th>Store</th>\n",
       "      <th>Date</th>\n",
       "      <th>Weekly_Sales</th>\n",
       "      <th>Holiday_Flag</th>\n",
       "      <th>Temperature</th>\n",
       "      <th>Fuel_Price</th>\n",
       "      <th>CPI</th>\n",
       "      <th>Unemployment</th>\n",
       "    </tr>\n",
       "  </thead>\n",
       "  <tbody>\n",
       "    <tr>\n",
       "      <th>0</th>\n",
       "      <td>1.0</td>\n",
       "      <td>40214.0</td>\n",
       "      <td>1643690.90</td>\n",
       "      <td>0.0</td>\n",
       "      <td>42.31</td>\n",
       "      <td>2.572</td>\n",
       "      <td>211.096</td>\n",
       "      <td>8.106</td>\n",
       "    </tr>\n",
       "    <tr>\n",
       "      <th>1</th>\n",
       "      <td>1.0</td>\n",
       "      <td>40221.0</td>\n",
       "      <td>1641957.44</td>\n",
       "      <td>1.0</td>\n",
       "      <td>38.51</td>\n",
       "      <td>2.548</td>\n",
       "      <td>211.242</td>\n",
       "      <td>8.106</td>\n",
       "    </tr>\n",
       "    <tr>\n",
       "      <th>2</th>\n",
       "      <td>1.0</td>\n",
       "      <td>40228.0</td>\n",
       "      <td>1611968.17</td>\n",
       "      <td>0.0</td>\n",
       "      <td>39.93</td>\n",
       "      <td>2.514</td>\n",
       "      <td>211.289</td>\n",
       "      <td>8.106</td>\n",
       "    </tr>\n",
       "    <tr>\n",
       "      <th>3</th>\n",
       "      <td>1.0</td>\n",
       "      <td>40235.0</td>\n",
       "      <td>1409727.59</td>\n",
       "      <td>0.0</td>\n",
       "      <td>46.63</td>\n",
       "      <td>2.561</td>\n",
       "      <td>211.320</td>\n",
       "      <td>8.106</td>\n",
       "    </tr>\n",
       "    <tr>\n",
       "      <th>4</th>\n",
       "      <td>1.0</td>\n",
       "      <td>40242.0</td>\n",
       "      <td>1554806.68</td>\n",
       "      <td>0.0</td>\n",
       "      <td>46.50</td>\n",
       "      <td>2.625</td>\n",
       "      <td>211.350</td>\n",
       "      <td>8.106</td>\n",
       "    </tr>\n",
       "    <tr>\n",
       "      <th>...</th>\n",
       "      <td>...</td>\n",
       "      <td>...</td>\n",
       "      <td>...</td>\n",
       "      <td>...</td>\n",
       "      <td>...</td>\n",
       "      <td>...</td>\n",
       "      <td>...</td>\n",
       "      <td>...</td>\n",
       "    </tr>\n",
       "    <tr>\n",
       "      <th>6430</th>\n",
       "      <td>45.0</td>\n",
       "      <td>41180.0</td>\n",
       "      <td>713173.95</td>\n",
       "      <td>0.0</td>\n",
       "      <td>64.88</td>\n",
       "      <td>3.997</td>\n",
       "      <td>192.014</td>\n",
       "      <td>8.684</td>\n",
       "    </tr>\n",
       "    <tr>\n",
       "      <th>6431</th>\n",
       "      <td>45.0</td>\n",
       "      <td>41187.0</td>\n",
       "      <td>733455.07</td>\n",
       "      <td>0.0</td>\n",
       "      <td>64.89</td>\n",
       "      <td>3.985</td>\n",
       "      <td>192.170</td>\n",
       "      <td>8.667</td>\n",
       "    </tr>\n",
       "    <tr>\n",
       "      <th>6432</th>\n",
       "      <td>45.0</td>\n",
       "      <td>41194.0</td>\n",
       "      <td>734464.36</td>\n",
       "      <td>0.0</td>\n",
       "      <td>54.47</td>\n",
       "      <td>4.000</td>\n",
       "      <td>192.327</td>\n",
       "      <td>8.667</td>\n",
       "    </tr>\n",
       "    <tr>\n",
       "      <th>6433</th>\n",
       "      <td>45.0</td>\n",
       "      <td>41201.0</td>\n",
       "      <td>718125.53</td>\n",
       "      <td>0.0</td>\n",
       "      <td>56.47</td>\n",
       "      <td>3.969</td>\n",
       "      <td>192.331</td>\n",
       "      <td>8.667</td>\n",
       "    </tr>\n",
       "    <tr>\n",
       "      <th>6434</th>\n",
       "      <td>45.0</td>\n",
       "      <td>41208.0</td>\n",
       "      <td>760281.43</td>\n",
       "      <td>0.0</td>\n",
       "      <td>58.85</td>\n",
       "      <td>3.882</td>\n",
       "      <td>192.309</td>\n",
       "      <td>8.667</td>\n",
       "    </tr>\n",
       "  </tbody>\n",
       "</table>\n",
       "<p>6435 rows × 8 columns</p>\n",
       "</div>"
      ],
      "text/plain": [
       "      Store     Date  Weekly_Sales  Holiday_Flag  Temperature  Fuel_Price  \\\n",
       "0       1.0  40214.0    1643690.90           0.0        42.31       2.572   \n",
       "1       1.0  40221.0    1641957.44           1.0        38.51       2.548   \n",
       "2       1.0  40228.0    1611968.17           0.0        39.93       2.514   \n",
       "3       1.0  40235.0    1409727.59           0.0        46.63       2.561   \n",
       "4       1.0  40242.0    1554806.68           0.0        46.50       2.625   \n",
       "...     ...      ...           ...           ...          ...         ...   \n",
       "6430   45.0  41180.0     713173.95           0.0        64.88       3.997   \n",
       "6431   45.0  41187.0     733455.07           0.0        64.89       3.985   \n",
       "6432   45.0  41194.0     734464.36           0.0        54.47       4.000   \n",
       "6433   45.0  41201.0     718125.53           0.0        56.47       3.969   \n",
       "6434   45.0  41208.0     760281.43           0.0        58.85       3.882   \n",
       "\n",
       "          CPI  Unemployment  \n",
       "0     211.096         8.106  \n",
       "1     211.242         8.106  \n",
       "2     211.289         8.106  \n",
       "3     211.320         8.106  \n",
       "4     211.350         8.106  \n",
       "...       ...           ...  \n",
       "6430  192.014         8.684  \n",
       "6431  192.170         8.667  \n",
       "6432  192.327         8.667  \n",
       "6433  192.331         8.667  \n",
       "6434  192.309         8.667  \n",
       "\n",
       "[6435 rows x 8 columns]"
      ]
     },
     "execution_count": 7,
     "metadata": {},
     "output_type": "execute_result"
    }
   ],
   "source": [
    "df=pd.read_csv(\"C:\\Machine Learning\\Walmart_Sales.csv\")\n",
    "df"
   ]
  },
  {
   "cell_type": "code",
   "execution_count": 3,
   "id": "e960b988-178a-476d-b11d-361ee86ec804",
   "metadata": {},
   "outputs": [
    {
     "data": {
      "text/plain": [
       "Store           0\n",
       "Date            0\n",
       "Weekly_Sales    0\n",
       "Holiday_Flag    0\n",
       "Temperature     0\n",
       "Fuel_Price      0\n",
       "CPI             0\n",
       "Unemployment    0\n",
       "dtype: int64"
      ]
     },
     "execution_count": 3,
     "metadata": {},
     "output_type": "execute_result"
    }
   ],
   "source": [
    "df.isnull().sum()"
   ]
  },
  {
   "cell_type": "code",
   "execution_count": 4,
   "id": "c4837df1-004d-4c93-94aa-4978fcfe9924",
   "metadata": {},
   "outputs": [],
   "source": [
    "y=df['Weekly_Sales']\n",
    "x=df.iloc[ : , : -1].values"
   ]
  },
  {
   "cell_type": "code",
   "execution_count": 5,
   "id": "5a1e648e-b931-462f-b361-1526b2d04817",
   "metadata": {},
   "outputs": [
    {
     "data": {
      "text/plain": [
       "array([[-1.69397911, -1.71998062,  1.05741972, ..., -0.99513556,\n",
       "        -1.71379998,  1.00416618],\n",
       "       [-1.69397911, -1.69575554,  1.05434796, ..., -1.20117022,\n",
       "        -1.76608938,  1.00787613],\n",
       "       [-1.69397911, -1.67153046,  1.00120591, ..., -1.12417832,\n",
       "        -1.84016603,  1.00907043],\n",
       "       ...,\n",
       "       [ 1.69397911,  1.67153046, -0.55376202, ..., -0.33582468,\n",
       "         1.39741931,  0.52723454],\n",
       "       [ 1.69397911,  1.69575554, -0.58271501, ..., -0.22738539,\n",
       "         1.32987884,  0.52733618],\n",
       "       [ 1.69397911,  1.71998062, -0.50801326, ..., -0.09834264,\n",
       "         1.14032976,  0.52677715]])"
      ]
     },
     "execution_count": 5,
     "metadata": {},
     "output_type": "execute_result"
    }
   ],
   "source": [
    "from sklearn.preprocessing import StandardScaler\n",
    "sc=StandardScaler()\n",
    "x_transform=sc.fit_transform(x)\n",
    "x_transform\n"
   ]
  },
  {
   "cell_type": "code",
   "execution_count": 6,
   "id": "5a504452-edae-4bcd-a62c-1c36664039d4",
   "metadata": {},
   "outputs": [
    {
     "data": {
      "text/plain": [
       "<function ndarray.flatten>"
      ]
     },
     "execution_count": 6,
     "metadata": {},
     "output_type": "execute_result"
    }
   ],
   "source": [
    "np.array(y).flatten"
   ]
  },
  {
   "cell_type": "code",
   "execution_count": 15,
   "id": "8def5acb-0c9b-47f8-b675-59e11d211692",
   "metadata": {},
   "outputs": [
    {
     "data": {
      "image/png": "[encoded data removed]",
      "text/plain": [
       "<Figure size 640x480 with 1 Axes>"
      ]
     },
     "metadata": {},
     "output_type": "display_data"
    }
   ],
   "source": [
    "import numpy as np\n",
    "import matplotlib.pyplot as plt\n",
    "def predicted_y(x, weights, intercept):\n",
    "    return np.dot(x, weights) + intercept\n",
    "\n",
    "def loss(y, y_predict):\n",
    "    n = len(y)\n",
    "    s = np.sum((y - y_predict) ** 2)\n",
    "    return (1 / n) * s\n",
    "\n",
    "def dww(x, y, y_predict):\n",
    "    n = len(x)\n",
    "    s = 0\n",
    "    for i in range(n):\n",
    "        s += (-x[i]) * (y[i] - y_predict[i])\n",
    "    return (2 / n) * s\n",
    "\n",
    "def dwi(y, y_predict):\n",
    "    n = len(y)\n",
    "    s=0\n",
    "    for i in range(len(y)):\n",
    "        s+=-(y[i]-y_predict[i])\n",
    "    return (2/n) * s\n",
    "\n",
    "def gradient_descent(x, y):\n",
    "    weight_vector = np.random.randn(x.shape[1])\n",
    "    learning_rate = 0.1\n",
    "    epochs = 100\n",
    "    intercept = 0\n",
    "    linear_loss = []\n",
    "    \n",
    "    for i in range(epochs):\n",
    "        y_predict = predicted_y(x, weight_vector, intercept)\n",
    "        weight_vector = weight_vector - learning_rate * dww(x, y, y_predict)\n",
    "        intercept = intercept - learning_rate `* dwi(y, y_predict)\n",
    "        linear_loss.append(loss(y, y_predict))\n",
    "    \n",
    "    plt.plot(np.arange(1, epochs), linear_loss[1:])\n",
    "    plt.xlabel(\"Number of Epochs\")\n",
    "    plt.ylabel(\"Loss\")\n",
    "    plt.title(\"Training Loss Over Epochs\")\n",
    "    plt.show()\n",
    "    \n",
    "    return weight_vector, intercept\n",
    "\n",
    "\n",
    "\n",
    "\n",
    "w, b = gradient_descent(x_transform, y)\n",
    "\n"
   ]
  },
  {
   "cell_type": "code",
   "execution_count": 14,
   "id": "f50c2881-3b46-4b73-bad5-d88330003b29",
   "metadata": {},
   "outputs": [
    {
     "name": "stdout",
     "output_type": "stream",
     "text": [
      "[-59888.73365581   2215.1250317  468451.36880728   4895.41814649\n",
      "  -8486.37093072   2201.36466763 -22053.40491923]\n"
     ]
    }
   ],
   "source": [
    "print(w)"
   ]
  },
  {
   "cell_type": "code",
   "execution_count": 9,
   "id": "0011d028-c893-493f-ae95-2864080d045e",
   "metadata": {},
   "outputs": [
    {
     "name": "stdout",
     "output_type": "stream",
     "text": [
      "1046964.8773485011\n"
     ]
    }
   ],
   "source": [
    "print(b)"
   ]
  },
  {
   "cell_type": "code",
   "execution_count": 10,
   "id": "9774f966-7974-4601-965e-aecf7524b7bf",
   "metadata": {},
   "outputs": [],
   "source": [
    "def predict(inp):\n",
    "    y_lst=[]\n",
    "    for i in range(len(inp)):\n",
    "        y_lst.append(w@inp[i]+b)\n",
    "    return np.array(y_lst)"
   ]
  },
  {
   "cell_type": "code",
   "execution_count": 11,
   "id": "81b7cc32-466e-4152-b745-0a3efd3fd4f5",
   "metadata": {},
   "outputs": [
    {
     "data": {
      "text/plain": [
       "array([1643643.73697377, 1641879.18627882, 1611946.23478374, ...,\n",
       "        734467.32373951,  718143.49267946,  760332.70440665])"
      ]
     },
     "execution_count": 11,
     "metadata": {},
     "output_type": "execute_result"
    }
   ],
   "source": [
    "y_pred=predict(x_transform)\n",
    "y_pred"
   ]
  },
  {
   "cell_type": "code",
   "execution_count": null,
   "id": "a1938665-477c-48d8-b5ea-3e333d906482",
   "metadata": {},
   "outputs": [],
   "source": []
  },
  {
   "cell_type": "code",
   "execution_count": 12,
   "id": "f3a61ffe-8612-4207-8042-51f7455a2e50",
   "metadata": {},
   "outputs": [
    {
     "data": {
      "text/html": [
       "<div>\n",
       "<style scoped>\n",
       "    .dataframe tbody tr th:only-of-type {\n",
       "        vertical-align: middle;\n",
       "    }\n",
       "\n",
       "    .dataframe tbody tr th {\n",
       "        vertical-align: top;\n",
       "    }\n",
       "\n",
       "    .dataframe thead th {\n",
       "        text-align: right;\n",
       "    }\n",
       "</style>\n",
       "<table border=\"1\" class=\"dataframe\">\n",
       "  <thead>\n",
       "    <tr style=\"text-align: right;\">\n",
       "      <th></th>\n",
       "      <th>y_actual</th>\n",
       "      <th>y_predicted</th>\n",
       "    </tr>\n",
       "  </thead>\n",
       "  <tbody>\n",
       "    <tr>\n",
       "      <th>0</th>\n",
       "      <td>1643690.90</td>\n",
       "      <td>1643643.7</td>\n",
       "    </tr>\n",
       "    <tr>\n",
       "      <th>1</th>\n",
       "      <td>1641957.44</td>\n",
       "      <td>1641879.2</td>\n",
       "    </tr>\n",
       "    <tr>\n",
       "      <th>2</th>\n",
       "      <td>1611968.17</td>\n",
       "      <td>1611946.2</td>\n",
       "    </tr>\n",
       "    <tr>\n",
       "      <th>3</th>\n",
       "      <td>1409727.59</td>\n",
       "      <td>1409698.7</td>\n",
       "    </tr>\n",
       "    <tr>\n",
       "      <th>4</th>\n",
       "      <td>1554806.68</td>\n",
       "      <td>1554758.7</td>\n",
       "    </tr>\n",
       "    <tr>\n",
       "      <th>...</th>\n",
       "      <td>...</td>\n",
       "      <td>...</td>\n",
       "    </tr>\n",
       "    <tr>\n",
       "      <th>6430</th>\n",
       "      <td>713173.95</td>\n",
       "      <td>713176.6</td>\n",
       "    </tr>\n",
       "    <tr>\n",
       "      <th>6431</th>\n",
       "      <td>733455.07</td>\n",
       "      <td>733464.9</td>\n",
       "    </tr>\n",
       "    <tr>\n",
       "      <th>6432</th>\n",
       "      <td>734464.36</td>\n",
       "      <td>734467.3</td>\n",
       "    </tr>\n",
       "    <tr>\n",
       "      <th>6433</th>\n",
       "      <td>718125.53</td>\n",
       "      <td>718143.5</td>\n",
       "    </tr>\n",
       "    <tr>\n",
       "      <th>6434</th>\n",
       "      <td>760281.43</td>\n",
       "      <td>760332.7</td>\n",
       "    </tr>\n",
       "  </tbody>\n",
       "</table>\n",
       "<p>6435 rows × 2 columns</p>\n",
       "</div>"
      ],
      "text/plain": [
       "        y_actual  y_predicted\n",
       "0     1643690.90    1643643.7\n",
       "1     1641957.44    1641879.2\n",
       "2     1611968.17    1611946.2\n",
       "3     1409727.59    1409698.7\n",
       "4     1554806.68    1554758.7\n",
       "...          ...          ...\n",
       "6430   713173.95     713176.6\n",
       "6431   733455.07     733464.9\n",
       "6432   734464.36     734467.3\n",
       "6433   718125.53     718143.5\n",
       "6434   760281.43     760332.7\n",
       "\n",
       "[6435 rows x 2 columns]"
      ]
     },
     "execution_count": 12,
     "metadata": {},
     "output_type": "execute_result"
    }
   ],
   "source": [
    "df_pred=pd.DataFrame()\n",
    "df_pred[\"y_actual\"]=y\n",
    "df_pred[\"y_predicted\"]=np.round(y_pred,1)\n",
    "df_pred"
   ]
  },
  {
   "cell_type": "code",
   "execution_count": null,
   "id": "b565bbb1-6092-4049-b904-c8c759ea2036",
   "metadata": {},
   "outputs": [],
   "source": []
  }
 ],
 "metadata": {
  "kernelspec": {
   "display_name": "Python 3 (ipykernel)",
   "language": "python",
   "name": "python3"
  },
  "language_info": {
   "codemirror_mode": {
    "name": "ipython",
    "version": 3
   },
   "file_extension": ".py",
   "mimetype": "text/x-python",
   "name": "python",
   "nbconvert_exporter": "python",
   "pygments_lexer": "ipython3",
   "version": "3.11.7"
  }
 },
 "nbformat": 4,
 "nbformat_minor": 5
}
